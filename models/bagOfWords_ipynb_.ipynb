{
  "nbformat": 4,
  "nbformat_minor": 0,
  "metadata": {
    "colab": {
      "provenance": []
    },
    "kernelspec": {
      "name": "python3",
      "display_name": "Python 3"
    },
    "language_info": {
      "name": "python"
    }
  },
  "cells": [
   
    {
      "cell_type": "code",
      "source": [
        "!pip install nltk\n"
      ],
      "metadata": {
        "colab": {
          "base_uri": "https://localhost:8080/"
        },
        "id": "zKP3CDKoWcos",
        "outputId": "7656869c-39d6-491c-e53b-c2abf4ef7a5d"
      },
      "execution_count": 1,
      "outputs": [
        {
          "output_type": "stream",
          "name": "stdout",
          "text": [
            "Requirement already satisfied: nltk in /usr/local/lib/python3.11/dist-packages (3.9.1)\n",
            "Requirement already satisfied: click in /usr/local/lib/python3.11/dist-packages (from nltk) (8.1.8)\n",
            "Requirement already satisfied: joblib in /usr/local/lib/python3.11/dist-packages (from nltk) (1.4.2)\n",
            "Requirement already satisfied: regex>=2021.8.3 in /usr/local/lib/python3.11/dist-packages (from nltk) (2024.11.6)\n",
            "Requirement already satisfied: tqdm in /usr/local/lib/python3.11/dist-packages (from nltk) (4.67.1)\n"
          ]
        }
      ]
    },
    {
      "cell_type": "code",
      "source": [
        "!pip install pandas"
      ],
      "metadata": {
        "colab": {
          "base_uri": "https://localhost:8080/"
        },
        "id": "QbD72Oj0CztD",
        "outputId": "d73ed778-c689-4a85-e321-5ecaba4403ee"
      },
      "execution_count": 2,
      "outputs": [
        {
          "output_type": "stream",
          "name": "stdout",
          "text": [
            "Requirement already satisfied: pandas in /usr/local/lib/python3.11/dist-packages (2.2.2)\n",
            "Requirement already satisfied: numpy>=1.23.2 in /usr/local/lib/python3.11/dist-packages (from pandas) (1.26.4)\n",
            "Requirement already satisfied: python-dateutil>=2.8.2 in /usr/local/lib/python3.11/dist-packages (from pandas) (2.8.2)\n",
            "Requirement already satisfied: pytz>=2020.1 in /usr/local/lib/python3.11/dist-packages (from pandas) (2024.2)\n",
            "Requirement already satisfied: tzdata>=2022.7 in /usr/local/lib/python3.11/dist-packages (from pandas) (2025.1)\n",
            "Requirement already satisfied: six>=1.5 in /usr/local/lib/python3.11/dist-packages (from python-dateutil>=2.8.2->pandas) (1.17.0)\n"
          ]
        }
      ]
    },
    {
      "cell_type": "code",
      "source": [
        "import pandas as pd\n",
        "import nltk\n",
        "from nltk.corpus import twitter_samples\n",
        "import random\n",
        "from nltk.tokenize import word_tokenize\n",
        "from nltk.corpus import stopwords\n",
        "from nltk.stem import PorterStemmer\n",
        "from nltk.stem import WordNetLemmatizer\n",
        "from nltk.probability import FreqDist\n",
        "from nltk.classify import NaiveBayesClassifier\n",
        "nltk.download('twitter_samples')\n",
        "nltk.download('stopwords')\n",
        "nltk.download('punkt')\n",
        "nltk.download('wordnet')\n",
        "nltk.download('punkt_tab')\n",
        "import nltk.classify.util\n",
        "\n",
        "\n",
        "df=pd.read_csv('youtoxic_english_1000(2).csv',usecols=[2,15])\n",
        "# podzial na texty i ich kasyfikacje\n",
        "i=0\n",
        "banedComments=[]\n",
        "notBanedComments=[]\n",
        "textsArray=df.drop(\"IsBaned\",axis=1).to_numpy()\n",
        "IsBanedArray=df[\"IsBaned\"].to_numpy()\n",
        "\n",
        "# funkcja do tworzenia arrayow z labelem true i zlabelem false\n",
        "def add_to_array(text,index):\n",
        "  # print(textsArray[index][0])\n",
        "  if(text==True):\n",
        "    banedComments.append(textsArray[index][0])\n",
        "  else:\n",
        "    notBanedComments.append(textsArray[index][0])\n",
        "# tworzenie arrayow\n",
        "for i in range(len(IsBanedArray)):\n",
        "  add_to_array(IsBanedArray[i],i)\n",
        "\n",
        "# robiwnie labelow i ich tasowanie\n",
        "comments=banedComments+notBanedComments\n",
        "labels = ['True'] * len(banedComments) + ['False'] * len(notBanedComments)\n",
        "# comments\n",
        "# Shuffle the dataset\n",
        "combined = list(zip(comments, labels))\n",
        "random.shuffle(combined)\n",
        "comments, labels = zip(*combined)\n",
        "# array to text i tokenizacja\n",
        "sample_text = ','.join(comments)\n",
        "tokens = word_tokenize(sample_text)\n",
        "\n",
        "# usuwanie tokenów\n",
        "stop_words = set(stopwords.words('english'))\n",
        "def remove_stopwords(tokens):\n",
        "    return [word for word in tokens if word.lower() not in stop_words]\n",
        "filtered_tokens = remove_stopwords(tokens)\n",
        "# stematyzacja i lematyzacja tokenow\n",
        "# stemmer = PorterStemmer()\n",
        "# lemmatizer = WordNetLemmatizer()\n",
        "\n",
        "# stemmed_tokens = [stemmer.stem(word) for word in filtered_tokens]\n",
        "# lemmatized_tokens = [lemmatizer.lemmatize(word) for word in filtered_tokens]\n",
        "\n",
        "# robienie bag of words\n",
        "all_words = [word.lower() for comment in comments for word in word_tokenize(comment)]\n",
        "all_words_freq = FreqDist(all_words)\n",
        "\n",
        "# Select the top 10000 words as features\n",
        "word_features = list(all_words_freq.keys())[:10000]\n",
        "\n",
        "def document_features(document):\n",
        "    document_words = set(document)\n",
        "    features = {}\n",
        "    for word in word_features:\n",
        "        features['contains({})'.format(word)] = (word in document_words)\n",
        "    return features\n",
        "\n",
        "# Create feature sets for training and testing\n",
        "feature_sets = [(document_features(word_tokenize(comment)), label) for (comment, label) in zip(comments, labels)]\n",
        "train_set, test_set = feature_sets[300:], feature_sets[:300]\n",
        "# tranowanie modela\n",
        "classifier = NaiveBayesClassifier.train(train_set)\n",
        "\n",
        "accuracy = nltk.classify.util.accuracy(classifier, test_set)\n",
        "print(f'Accuracy: {accuracy * 100:.2f}%')\n",
        "\n",
        "# //////////////////////////////////////////\n",
        "# function to get precision recall and accuracy\n",
        "def classiffy_train_set(sentence):\n",
        "  # test_features = document_features(word_tokenize(sentence))\n",
        "  # print(test_features)\n",
        "  classification = classifier.classify(sentence)\n",
        "  return classification\n",
        "\n",
        "\n",
        "# ocena modela\n",
        "predictions=[]\n",
        "number=300\n",
        "TP=0\n",
        "TN=0\n",
        "FP=0\n",
        "FN=0\n",
        "for i in range(number):\n",
        "\n",
        "   predictions.append(classiffy_train_set(test_set[i][0]))\n",
        "# print(IsBanedArray[0])\n",
        "for i in range(number):\n",
        "  if(str(test_set[i][1])==\"True\"):\n",
        "    if(str(predictions[i])==str(test_set[i][1])):\n",
        "      TP=TP+1\n",
        "    else:\n",
        "      FN=FN+1\n",
        "  else:\n",
        "    if(str(predictions[i])==str(test_set[i][1])):\n",
        "      TN=TN+1\n",
        "    else:\n",
        "      FP=FP+1\n",
        "print (\"true positive=  \"+str(TP))\n",
        "print (\"true negative=  \"+str(TN))\n",
        "print (\"false positive=  \"+str(FP))\n",
        "print (\"false negative=  \"+str(FN))\n",
        "precision=TP/(TP+FP)\n",
        "recall=TP/(TP+FN)\n",
        "accuracy=(TP+TN)/number\n",
        "print(\"precision= \"+str(precision))\n",
        "print(\"recall= \"+str(recall))\n",
        "print(\"accuracy= \"+str(accuracy))\n",
        "\n",
        "# definicja nowego textu(nie w training set)\n",
        "def classiffy_sentence(sentence):\n",
        "  test_features = document_features(word_tokenize(sentence))\n",
        "  # print(test_features)\n",
        "  classification = classifier.classify(test_features)\n",
        "  return classification\n",
        "\n"
      ],
      "metadata": {
        "colab": {
          "base_uri": "https://localhost:8080/"
        },
        "id": "73vnyHFRBE2U",
        "outputId": "958e9063-5d82-4e98-9ad8-9ea73c4ce1fc"
      },
      "execution_count": 29,
      "outputs": [
        {
          "output_type": "stream",
          "name": "stderr",
          "text": [
            "[nltk_data] Downloading package twitter_samples to /root/nltk_data...\n",
            "[nltk_data]   Package twitter_samples is already up-to-date!\n",
            "[nltk_data] Downloading package stopwords to /root/nltk_data...\n",
            "[nltk_data]   Package stopwords is already up-to-date!\n",
            "[nltk_data] Downloading package punkt to /root/nltk_data...\n",
            "[nltk_data]   Package punkt is already up-to-date!\n",
            "[nltk_data] Downloading package wordnet to /root/nltk_data...\n",
            "[nltk_data]   Package wordnet is already up-to-date!\n",
            "[nltk_data] Downloading package punkt_tab to /root/nltk_data...\n",
            "[nltk_data]   Package punkt_tab is already up-to-date!\n"
          ]
        },
        {
          "output_type": "stream",
          "name": "stdout",
          "text": [
            "Accuracy: 65.33%\n",
            "true positive=  73\n",
            "true negative=  123\n",
            "false positive=  35\n",
            "false negative=  69\n",
            "precision= 0.6759259259259259\n",
            "recall= 0.5140845070422535\n",
            "accuracy= 0.6533333333333333\n"
          ]
        }
      ]
    },
    {
      "cell_type": "code",
      "source": [
        "print(classiffy_sentence(\"This comment seems offensive and should be banned\"))\n"
      ],
      "metadata": {
        "colab": {
          "base_uri": "https://localhost:8080/"
        },
        "id": "jJC3WsScmqr7",
        "outputId": "75449950-bbf3-4118-d956-2fcf9b49a91e"
      },
      "execution_count": 30,
      "outputs": [
        {
          "output_type": "stream",
          "name": "stdout",
          "text": [

            "False\n"
          ]
        }
      ]
    }
  ]
}
