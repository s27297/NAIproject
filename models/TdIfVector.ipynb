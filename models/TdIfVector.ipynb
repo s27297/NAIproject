{
  "nbformat": 4,
  "nbformat_minor": 0,
  "metadata": {
    "colab": {
      "provenance": []
    },
    "kernelspec": {
      "name": "python3",
      "display_name": "Python 3"
    },
    "language_info": {
      "name": "python"
    }
  },
  "cells": [
    
    {
      "cell_type": "code",
      "source": [
        "!pip install nltk\n"
      ],
      "metadata": {
        "id": "zKP3CDKoWcos",
        "colab": {
          "base_uri": "https://localhost:8080/"
        },
        "outputId": "d1203669-effa-48e2-ed3f-1f164ad2bcc4"
      },
      "execution_count": 1,
      "outputs": [
        {
          "output_type": "stream",
          "name": "stdout",
          "text": [
            "Requirement already satisfied: nltk in /usr/local/lib/python3.11/dist-packages (3.9.1)\n",
            "Requirement already satisfied: click in /usr/local/lib/python3.11/dist-packages (from nltk) (8.1.8)\n",
            "Requirement already satisfied: joblib in /usr/local/lib/python3.11/dist-packages (from nltk) (1.4.2)\n",
            "Requirement already satisfied: regex>=2021.8.3 in /usr/local/lib/python3.11/dist-packages (from nltk) (2024.11.6)\n",
            "Requirement already satisfied: tqdm in /usr/local/lib/python3.11/dist-packages (from nltk) (4.67.1)\n"
          ]
        }
      ]
    },
    {
      "cell_type": "code",
      "source": [
        "!pip install pandas"
      ],
      "metadata": {
        "colab": {
          "base_uri": "https://localhost:8080/"
        },
        "id": "QbD72Oj0CztD",
        "outputId": "2d768d2e-627d-45ca-cc3e-04de45b844ec"
      },
      "execution_count": 2,
      "outputs": [
        {
          "output_type": "stream",
          "name": "stdout",
          "text": [
            "Requirement already satisfied: pandas in /usr/local/lib/python3.11/dist-packages (2.2.2)\n",
            "Requirement already satisfied: numpy>=1.23.2 in /usr/local/lib/python3.11/dist-packages (from pandas) (1.26.4)\n",
            "Requirement already satisfied: python-dateutil>=2.8.2 in /usr/local/lib/python3.11/dist-packages (from pandas) (2.8.2)\n",
            "Requirement already satisfied: pytz>=2020.1 in /usr/local/lib/python3.11/dist-packages (from pandas) (2024.2)\n",
            "Requirement already satisfied: tzdata>=2022.7 in /usr/local/lib/python3.11/dist-packages (from pandas) (2025.1)\n",
            "Requirement already satisfied: six>=1.5 in /usr/local/lib/python3.11/dist-packages (from python-dateutil>=2.8.2->pandas) (1.17.0)\n"
          ]
        }
      ]
    },
    {
      "cell_type": "code",
      "source": [
        "import pandas as pd\n",
        "import nltk\n",
        "from nltk.corpus import twitter_samples\n",
        "import random\n",
        "from nltk.tokenize import word_tokenize\n",
        "from nltk.corpus import stopwords\n",
        "from nltk.stem import PorterStemmer\n",
        "from nltk.stem import WordNetLemmatizer\n",
        "from nltk.probability import FreqDist\n",
        "from sklearn.model_selection import train_test_split\n",
        "from sklearn.feature_extraction.text import TfidfVectorizer\n",
        "from nltk.classify import NaiveBayesClassifier\n",
        "from sklearn.naive_bayes import MultinomialNB\n",
        "import nltk.classify.util\n",
        "\n",
        "nltk.download('twitter_samples')\n",
        "nltk.download('stopwords')\n",
        "nltk.download('punkt')\n",
        "nltk.download('wordnet')\n",
        "nltk.download('punkt_tab')\n",
        "\n",
        "\n",
        "df=pd.read_csv('youtoxic_english_1000(2).csv',usecols=[2,15])\n",
        "# podzial na texty i ich kasyfikacje\n",
        "i=0\n",
        "banedComments=[]\n",
        "notBanedComments=[]\n",
        "textsArray=df.drop(\"IsBaned\",axis=1).to_numpy()\n",
        "IsBanedArray=df[\"IsBaned\"].to_numpy()\n",
        "\n",
        "# funkcja do tworzenia arrayow z labelem true i zlabelem false\n",
        "def add_to_array(text,index):\n",
        "  # print(textsArray[index][0])\n",
        "  if(text==True):\n",
        "    banedComments.append(textsArray[index][0])\n",
        "  else:\n",
        "    notBanedComments.append(textsArray[index][0])\n",
        "# tworzenie arrayow\n",
        "for i in range(len(IsBanedArray)):\n",
        "  add_to_array(IsBanedArray[i],i)\n",
        "\n",
        "# robiwnie labelow i ich tasowanie\n",
        "comments=banedComments+notBanedComments\n",
        "labels = ['True'] * len(banedComments) + ['False'] * len(notBanedComments)\n",
        "# comments\n",
        "# Shuffle the dataset\n",
        "combined = list(zip(comments, labels))\n",
        "random.shuffle(combined)\n",
        "comments, labels = zip(*combined)\n",
        "# array to text i tokenizacja\n",
        "sample_text = ','.join(comments)\n",
        "tokens = word_tokenize(sample_text)\n",
        "\n",
        "# usuwanie tokenów\n",
        "stop_words = set(stopwords.words('english'))\n",
        "def remove_stopwords(tokens):\n",
        "    return [word for word in tokens if word.lower() not in stop_words]\n",
        "filtered_tokens = remove_stopwords(tokens)\n",
        "# stematyzacja i lematyzacja tokenow\n",
        "# stemmer = PorterStemmer()\n",
        "# lemmatizer = WordNetLemmatizer()\n",
        "\n",
        "# stemmed_tokens = [stemmer.stem(word) for word in filtered_tokens]\n",
        "# lemmatized_tokens = [lemmatizer.lemmatize(word) for word in filtered_tokens]\n",
        "\n",
        "\n",
        "\n",
        "# Convert comments to TF-IDF vectors\n",
        "vectorizer = TfidfVectorizer(max_features=10000, stop_words='english')\n",
        "X = vectorizer.fit_transform(comments).toarray()\n",
        "\n",
        "# Create feature sets for training and testing\n",
        "\n",
        "X_train, X_test, y_train, y_test = train_test_split(X, labels, test_size=0.3, random_state=42)\n",
        "\n",
        "# Train a Naive Bayes classifier\n",
        "classifier = MultinomialNB()\n",
        "classifier.fit(X_train, y_train)\n",
        "\n",
        "# Evaluate accuracy\n",
        "accuracy = classifier.score(X_test, y_test)\n",
        "print(f'Accuracy: {accuracy * 100:.2f}%')\n",
        "\n",
        "# ////////////////////////////////////////////////////////////////////\n",
        "# function to get precision recall and accuracy\n",
        "def classiffy_train_set(sentence):\n",
        "\n",
        "  classification = classifier.predict(sentence)\n",
        "  return classification\n",
        "\n",
        "\n",
        "# ocena modela\n",
        "# predictions=[]\n",
        "number=300\n",
        "TP=0\n",
        "TN=0\n",
        "FP=0\n",
        "FN=0\n",
        "# for i in range(number):\n",
        "\n",
        "predictions=classiffy_train_set(X_test)\n",
        "\n",
        "for i in range(number):\n",
        "  if(str(y_test[i])==\"True\"):\n",
        "    if(str(predictions[i])==str(y_test[i])):\n",
        "      TP=TP+1\n",
        "    else:\n",
        "      FN=FN+1\n",
        "  else:\n",
        "    if(str(predictions[i])==str(y_test[i])):\n",
        "      TN=TN+1\n",
        "    else:\n",
        "      FP=FP+1\n",
        "print (\"true positive=  \"+str(TP))\n",
        "print (\"true negative=  \"+str(TN))\n",
        "print (\"false positive=  \"+str(FP))\n",
        "print (\"false negative=  \"+str(FN))\n",
        "precision=TP/(TP+FP)\n",
        "recall=TP/(TP+FN)\n",
        "accuracy=(TP+TN)/number\n",
        "print(\"precision= \"+str(precision))\n",
        "print(\"recall= \"+str(recall))\n",
        "print(\"accuracy= \"+str(accuracy))\n",
        "\n",
        "# definicja nowego textu(nie w training set)\n",
        "def classiffy_sentence(text):\n",
        "\n",
        "    # Preprocess the input text\n",
        "    stop_words = set(stopwords.words('english'))\n",
        "    tokens = word_tokenize(text.lower())\n",
        "    tokens = [word for word in tokens if word.isalpha() and word not in stop_words]\n",
        "\n",
        "    # Convert tokens back to a single string\n",
        "    preprocessed_text = \" \".join(tokens)\n",
        "    # Transform the text to TF-IDF vector\n",
        "    text_vector = vectorizer.transform([preprocessed_text]).toarray()\n",
        "    # Predict the label using the classifier\n",
        "    prediction = classifier.predict(text_vector)\n",
        "\n",
        "    return prediction[0]\n"
      ],
      "metadata": {
        "colab": {
          "base_uri": "https://localhost:8080/"
        },
        "id": "73vnyHFRBE2U",
        "outputId": "7cf2b422-a137-4b9c-a438-a8b707bf5038"
      },
      "execution_count": 60,
      "outputs": [
        {
          "output_type": "stream",
          "name": "stderr",
          "text": [
            "[nltk_data] Downloading package twitter_samples to /root/nltk_data...\n",
            "[nltk_data]   Package twitter_samples is already up-to-date!\n",
            "[nltk_data] Downloading package stopwords to /root/nltk_data...\n",
            "[nltk_data]   Package stopwords is already up-to-date!\n",
            "[nltk_data] Downloading package punkt to /root/nltk_data...\n",
            "[nltk_data]   Package punkt is already up-to-date!\n",
            "[nltk_data] Downloading package wordnet to /root/nltk_data...\n",
            "[nltk_data]   Package wordnet is already up-to-date!\n",
            "[nltk_data] Downloading package punkt_tab to /root/nltk_data...\n",
            "[nltk_data]   Package punkt_tab is already up-to-date!\n"
          ]
        },
        {
          "output_type": "stream",
          "name": "stdout",
          "text": [
            "Accuracy: 74.00%\n",
            "true positive=  89\n",
            "true negative=  133\n",
            "false positive=  33\n",
            "false negative=  45\n",
            "precision= 0.7295081967213115\n",
            "recall= 0.664179104477612\n",
            "accuracy= 0.74\n"
          ]
        }
      ]
    },
    {
      "cell_type": "code",
      "source": [
        "print(classiffy_sentence(\"This comment seems offensive and should be banned\"))\n"

      ],
      "metadata": {
        "colab": {
          "base_uri": "https://localhost:8080/"
        },
        "id": "YwtWX-aSxxyR",
        "outputId": "4c48e002-fa58-4d62-a413-7acf45ed3f60"
      },
      "execution_count": 61,
      "outputs": [
        {
          "output_type": "stream",
          "name": "stdout",
          "text": [
            "True\n",
            "True\n"
          ]
        }
      ]
    }
  ]
}
