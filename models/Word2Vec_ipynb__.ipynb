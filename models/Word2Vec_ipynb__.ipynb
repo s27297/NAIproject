{
  "nbformat": 4,
  "nbformat_minor": 0,
  "metadata": {
    "colab": {
      "provenance": []
    },
    "kernelspec": {
      "name": "python3",
      "display_name": "Python 3"
    },
    "language_info": {
      "name": "python"
    }
  },
  "cells": [
   
    {
      "cell_type": "code",
      "source": [
        "!pip install scikit-learn"
      ],
      "metadata": {
        "colab": {
          "base_uri": "https://localhost:8080/"
        },
        "id": "f2c_2TaYuedy",
        "outputId": "86e369ee-ba81-419a-f52b-2c28bf1fb031"
      },
      "execution_count": 6,
      "outputs": [
        {
          "output_type": "stream",
          "name": "stdout",
          "text": [
            "Requirement already satisfied: scikit-learn in /usr/local/lib/python3.11/dist-packages (1.6.1)\n",
            "Requirement already satisfied: numpy>=1.19.5 in /usr/local/lib/python3.11/dist-packages (from scikit-learn) (1.26.4)\n",
            "Requirement already satisfied: scipy>=1.6.0 in /usr/local/lib/python3.11/dist-packages (from scikit-learn) (1.13.1)\n",
            "Requirement already satisfied: joblib>=1.2.0 in /usr/local/lib/python3.11/dist-packages (from scikit-learn) (1.4.2)\n",
            "Requirement already satisfied: threadpoolctl>=3.1.0 in /usr/local/lib/python3.11/dist-packages (from scikit-learn) (3.5.0)\n"
          ]
        }
      ]
    },
    {
      "cell_type": "code",
      "source": [
        "!pip install nltk\n"
      ],
      "metadata": {
        "id": "zKP3CDKoWcos",
        "colab": {
          "base_uri": "https://localhost:8080/"
        },
        "outputId": "7e12d571-1bb7-4741-fc61-8bcebb3b7223"
      },
      "execution_count": 7,
      "outputs": [
        {
          "output_type": "stream",
          "name": "stdout",
          "text": [
            "Requirement already satisfied: nltk in /usr/local/lib/python3.11/dist-packages (3.9.1)\n",
            "Requirement already satisfied: click in /usr/local/lib/python3.11/dist-packages (from nltk) (8.1.8)\n",
            "Requirement already satisfied: joblib in /usr/local/lib/python3.11/dist-packages (from nltk) (1.4.2)\n",
            "Requirement already satisfied: regex>=2021.8.3 in /usr/local/lib/python3.11/dist-packages (from nltk) (2024.11.6)\n",
            "Requirement already satisfied: tqdm in /usr/local/lib/python3.11/dist-packages (from nltk) (4.67.1)\n"
          ]
        }
      ]
    },
    {
      "cell_type": "code",
      "source": [
        "!pip install pandas"
      ],
      "metadata": {
        "colab": {
          "base_uri": "https://localhost:8080/"
        },
        "id": "QbD72Oj0CztD",
        "outputId": "27ec189e-961a-409c-a728-6b8f554bac2b"
      },
      "execution_count": 8,
      "outputs": [
        {
          "output_type": "stream",
          "name": "stdout",
          "text": [
            "Requirement already satisfied: pandas in /usr/local/lib/python3.11/dist-packages (2.2.2)\n",
            "Requirement already satisfied: numpy>=1.23.2 in /usr/local/lib/python3.11/dist-packages (from pandas) (1.26.4)\n",
            "Requirement already satisfied: python-dateutil>=2.8.2 in /usr/local/lib/python3.11/dist-packages (from pandas) (2.8.2)\n",
            "Requirement already satisfied: pytz>=2020.1 in /usr/local/lib/python3.11/dist-packages (from pandas) (2024.2)\n",
            "Requirement already satisfied: tzdata>=2022.7 in /usr/local/lib/python3.11/dist-packages (from pandas) (2025.1)\n",
            "Requirement already satisfied: six>=1.5 in /usr/local/lib/python3.11/dist-packages (from python-dateutil>=2.8.2->pandas) (1.17.0)\n"
          ]
        }
      ]
    },
    {
      "cell_type": "code",
      "source": [
        "import pandas as pd\n",
        "import nltk\n",
        "from nltk.corpus import twitter_samples\n",
        "import random\n",
        "from nltk.tokenize import word_tokenize\n",
        "from nltk.corpus import stopwords\n",
        "from nltk.stem import PorterStemmer\n",
        "from nltk.stem import WordNetLemmatizer\n",
        "from nltk.probability import FreqDist\n",
        "from nltk.classify import NaiveBayesClassifier\n",
        "from gensim.models import Word2Vec\n",
        "import numpy as np\n",
        "from sklearn.model_selection import train_test_split\n",
        "from sklearn.ensemble import RandomForestClassifier\n",
        "from sklearn.metrics import accuracy_score\n",
        "nltk.download('twitter_samples')\n",
        "nltk.download('stopwords')\n",
        "nltk.download('punkt')\n",
        "nltk.download('wordnet')\n",
        "nltk.download('punkt_tab')\n",
        "import nltk.classify.util\n",
        "\n",
        "\n",
        "df=pd.read_csv('youtoxic_english_1000(2).csv',usecols=[2,15])\n",
        "# podzial na texty i ich kasyfikacje\n",
        "i=0\n",
        "banedComments=[]\n",
        "notBanedComments=[]\n",
        "textsArray=df.drop(\"IsBaned\",axis=1).to_numpy()\n",
        "IsBanedArray=df[\"IsBaned\"].to_numpy()\n",
        "\n",
        "# funkcja do tworzenia arrayow z labelem true i zlabelem false\n",
        "def add_to_array(text,index):\n",
        "  # print(textsArray[index][0])\n",
        "  if(text==True):\n",
        "    banedComments.append(textsArray[index][0])\n",
        "  else:\n",
        "    notBanedComments.append(textsArray[index][0])\n",
        "# tworzenie arrayow\n",
        "for i in range(len(IsBanedArray)):\n",
        "  add_to_array(IsBanedArray[i],i)\n",
        "\n",
        "# robiwnie labelow i ich tasowanie\n",
        "comments=banedComments+notBanedComments\n",
        "labels = ['True'] * len(banedComments) + ['False'] * len(notBanedComments)\n",
        "# comments\n",
        "# Shuffle the dataset\n",
        "combined = list(zip(comments, labels))\n",
        "random.shuffle(combined)\n",
        "comments, labels = zip(*combined)\n",
        "# array to text i tokenizacja\n",
        "sample_text = ','.join(comments)\n",
        "tokens = word_tokenize(sample_text)\n",
        "\n",
        "# usuwanie tokenów\n",
        "stop_words = set(stopwords.words('english'))\n",
        "def remove_stopwords(tokens):\n",
        "    return [word for word in tokens if word.lower() not in stop_words]\n",
        "filtered_tokens = remove_stopwords(tokens)\n",
        "\n",
        "\n",
        "# from gensim.models import Word2Vec\n",
        "# import numpy as np\n",
        "\n",
        "# Train Word2Vec model\n",
        "tokenized_comments = [word_tokenize(comment.lower()) for comment in comments]\n",
        "word2vec_model = Word2Vec(sentences=tokenized_comments, vector_size=100, window=5, min_count=2, workers=4)\n",
        "\n",
        "# Compute average Word2Vec vector for each comment\n",
        "def document_vector(words, model):\n",
        "    words = [word for word in words if word in model.wv]\n",
        "    if not words:\n",
        "        return np.zeros(model.vector_size)\n",
        "    return np.mean(model.wv[words], axis=0)\n",
        "\n",
        "X = np.array([document_vector(word_tokenize(comment.lower()), word2vec_model) for comment in comments])\n",
        "\n",
        "# Train-test split and classifier\n",
        "X_train, X_test, y_train, y_test = train_test_split(X, labels, test_size=0.3, random_state=42)\n",
        "classifier = RandomForestClassifier(n_estimators=100, random_state=42)\n",
        "classifier.fit(X_train, y_train)\n",
        "y_pred = classifier.predict(X_test)\n",
        "\n",
        "# Accuracy\n",
        "accuracy = accuracy_score(y_test, y_pred)\n",
        "print(f'Accuracy: {accuracy * 100:.2f}%')\n",
        "\n",
        "# //////////////////////////////////////////\n",
        "# function to get precision recall and accuracy\n",
        "def classiffy_train_set(text):\n",
        "    prediction = classifier.predict(text)\n",
        "    return prediction\n",
        "# ocena modela\n",
        "number=300\n",
        "TP=0\n",
        "TN=0\n",
        "FP=0\n",
        "FN=0\n",
        "predictions=classiffy_train_set(X_test)\n",
        "# print(IsBanedArray[0])\n",
        "for i in range(number):\n",
        "  if(str(y_test[i])==\"True\"):\n",
        "    if(str(predictions[i])==str(y_test[i])):\n",
        "      TP=TP+1\n",
        "    else:\n",
        "      FN=FN+1\n",
        "  else:\n",
        "    if(str(predictions[i])==str(y_test[i])):\n",
        "      TN=TN+1\n",
        "    else:\n",
        "      FP=FP+1\n",
        "print (\"true positive=  \"+str(TP))\n",
        "print (\"true negative=  \"+str(TN))\n",
        "print (\"false positive=  \"+str(FP))\n",
        "print (\"false negative=  \"+str(FN))\n",
        "precision=TP/(TP+FP)\n",
        "recall=TP/(TP+FN)\n",
        "accuracy=(TP+TN)/number\n",
        "print(\"precision= \"+str(precision))\n",
        "print(\"recall= \"+str(recall))\n",
        "print(\"accuracy= \"+str(accuracy))\n",
        "\n",
        "\n",
        "# definicja nowego textu(nie w training set)\n",
        "def classiffy_text(text):\n",
        "    # Tokenize and preprocess the text\n",
        "    stop_words = set(stopwords.words('english'))\n",
        "    tokens = word_tokenize(text.lower())\n",
        "    tokens = [word for word in tokens if word.isalpha() and word not in stop_words]\n",
        "\n",
        "    # Compute the Word2Vec vector for the input text\n",
        "    text_vector = document_vector(tokens, word2vec_model)\n",
        "\n",
        "    # Reshape the vector for prediction (1 sample, n features)\n",
        "    text_vector = text_vector.reshape(1, -1)\n",
        "\n",
        "    # Make the prediction\n",
        "    prediction = classifier.predict(text_vector)\n",
        "    # print(prediction)\n",
        "    return prediction[0]\n",
        "\n"
      ],
      "metadata": {
        "colab": {
          "base_uri": "https://localhost:8080/"
        },
        "id": "73vnyHFRBE2U",
        "outputId": "660c71b1-fad9-4e88-cf3e-5ee4eded8b88"
      },
      "execution_count": 35,
      "outputs": [
        {
          "output_type": "stream",
          "name": "stderr",
          "text": [
            "[nltk_data] Downloading package twitter_samples to /root/nltk_data...\n",
            "[nltk_data]   Package twitter_samples is already up-to-date!\n",
            "[nltk_data] Downloading package stopwords to /root/nltk_data...\n",
            "[nltk_data]   Package stopwords is already up-to-date!\n",
            "[nltk_data] Downloading package punkt to /root/nltk_data...\n",
            "[nltk_data]   Package punkt is already up-to-date!\n",
            "[nltk_data] Downloading package wordnet to /root/nltk_data...\n",
            "[nltk_data]   Package wordnet is already up-to-date!\n",
            "[nltk_data] Downloading package punkt_tab to /root/nltk_data...\n",
            "[nltk_data]   Package punkt_tab is already up-to-date!\n"
          ]
        },
        {
          "output_type": "stream",
          "name": "stdout",
          "text": [
            "Accuracy: 53.00%\n",
            "true positive=  54\n",
            "true negative=  105\n",
            "false positive=  54\n",
            "false negative=  87\n",
            "precision= 0.5\n",
            "recall= 0.3829787234042553\n",
            "accuracy= 0.53\n"
          ]
        }
      ]
    },
    {
      "cell_type": "code",
      "source": [
        "print(classiffy_text(\"This comment seems offensive and should be banned\"))\n"
      ],
      "metadata": {
        "colab": {
          "base_uri": "https://localhost:8080/"
        },
        "id": "jJC3WsScmqr7",
        "outputId": "03762041-6ea2-4a69-9b6a-bbbfb1d5dabd"
      },
      "execution_count": 36,
      "outputs": [
        {
          "output_type": "stream",
          "name": "stdout",
          "text": [

            "True\n"
          ]
        }
      ]
    }
  ]
}
